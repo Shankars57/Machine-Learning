{
  "nbformat": 4,
  "nbformat_minor": 0,
  "metadata": {
    "colab": {
      "provenance": [],
      "authorship_tag": "ABX9TyOa6jJKex6Kyw17ziyBvSdZ",
      "include_colab_link": true
    },
    "kernelspec": {
      "name": "python3",
      "display_name": "Python 3"
    },
    "language_info": {
      "name": "python"
    }
  },
  "cells": [
    {
      "cell_type": "markdown",
      "metadata": {
        "id": "view-in-github",
        "colab_type": "text"
      },
      "source": [
        "<a href=\"https://colab.research.google.com/github/Shankars57/Machine-Learning/blob/main/candidate_Elimination_Method.ipynb\" target=\"_parent\"><img src=\"https://colab.research.google.com/assets/colab-badge.svg\" alt=\"Open In Colab\"/></a>"
      ]
    },
    {
      "cell_type": "code",
      "source": [
        "import numpy as np\n",
        "import pandas as pd\n",
        "data = pd.read_csv('/content/data.csv')\n",
        "data.head()\n",
        "concept = np.array(data)[:,0:-1]\n",
        "target = np.array(data)[:,-1]\n",
        "print(concept)\n",
        "print(target)"
      ],
      "metadata": {
        "colab": {
          "base_uri": "https://localhost:8080/"
        },
        "id": "jsF34NtHAyah",
        "outputId": "18f48a55-e1a4-41ae-e611-4d2365f70acd"
      },
      "execution_count": 22,
      "outputs": [
        {
          "output_type": "stream",
          "name": "stdout",
          "text": [
            "[['sunny' 'warm' 'normal' 'strong' 'warm' 'same']\n",
            " ['sunny' 'warm' 'high' 'strong' 'warm' 'same']\n",
            " ['rainy' 'cold' 'high' 'strong' 'warm' 'change']\n",
            " ['sunny' 'warm' 'high' 'strong' 'cool' 'change']]\n",
            "['yes' 'yes' 'no' 'yes']\n"
          ]
        }
      ]
    },
    {
      "cell_type": "code",
      "source": [
        "def learn(concept, target):\n",
        "  specific_h = concept[0].copy()\n",
        "  print(\"Initiallization of specific_h \\n\",specific_h)\n",
        "  general_h = [[\"?\" for i in range(len(specific_h))] for i in range(len(specific_h))]\n",
        "  print(\"Initiallization of general_h \\n\",general_h)\n",
        "  for i, h in enumerate(concept):\n",
        "    if target[i] == \"yes\":\n",
        "        for x in range(len(h)):\n",
        "            if h[x] != specific_h[x]:\n",
        "                specific_h[x] = '?'\n",
        "                general_h[x][x] = \"?\"\n",
        "    if target[i] == \"no\":\n",
        "      for x in range(len(specific_h)):\n",
        "        if h[x] != specific_h[x]:\n",
        "            general_h[x][x] = specific_h[x]\n",
        "        else:\n",
        "          general_h[x][x] = '?'\n",
        "          print(\"Steps of candidate elimination algorithm \\n\",i+1)\n",
        "    print(\"Specific_h \\n\",i+1,specific_h , \"\\n\")\n",
        "    print(\"General_h \\n\",i+1,general_h , \"\\n\")\n",
        "  indices = [i for i,val in enumerate(general_h)  if val == [\"?\",\"?\",\"?\",\"?\",\"?\",\"?\"]]\n",
        "  for i in indices:\n",
        "    general_h.remove([\"?\",\"?\",\"?\",\"?\",\"?\",\"?\"])\n",
        "  return specific_h,general_h\n",
        "s_final,g_final = learn(concept,target)\n",
        "print(\"Final Specific_h\",s_final,sep=\"\\n\")\n",
        "print(\"Final General_h\",g_final,sep=\"\\n\")\n",
        ""
      ],
      "metadata": {
        "colab": {
          "base_uri": "https://localhost:8080/"
        },
        "id": "O1rARS5WHU0h",
        "outputId": "3675e6b1-5d8d-4604-88c3-39bccac334e3"
      },
      "execution_count": 27,
      "outputs": [
        {
          "output_type": "stream",
          "name": "stdout",
          "text": [
            "Initiallization of specific_h \n",
            " ['sunny' 'warm' 'normal' 'strong' 'warm' 'same']\n",
            "Initiallization of general_h \n",
            " [['?', '?', '?', '?', '?', '?'], ['?', '?', '?', '?', '?', '?'], ['?', '?', '?', '?', '?', '?'], ['?', '?', '?', '?', '?', '?'], ['?', '?', '?', '?', '?', '?'], ['?', '?', '?', '?', '?', '?']]\n",
            "Specific_h \n",
            " 1 ['sunny' 'warm' 'normal' 'strong' 'warm' 'same'] \n",
            "\n",
            "General_h \n",
            " 1 [['?', '?', '?', '?', '?', '?'], ['?', '?', '?', '?', '?', '?'], ['?', '?', '?', '?', '?', '?'], ['?', '?', '?', '?', '?', '?'], ['?', '?', '?', '?', '?', '?'], ['?', '?', '?', '?', '?', '?']] \n",
            "\n",
            "Specific_h \n",
            " 2 ['sunny' 'warm' '?' 'strong' 'warm' 'same'] \n",
            "\n",
            "General_h \n",
            " 2 [['?', '?', '?', '?', '?', '?'], ['?', '?', '?', '?', '?', '?'], ['?', '?', '?', '?', '?', '?'], ['?', '?', '?', '?', '?', '?'], ['?', '?', '?', '?', '?', '?'], ['?', '?', '?', '?', '?', '?']] \n",
            "\n",
            "Steps of candidate elimination algorithm \n",
            " 3\n",
            "Steps of candidate elimination algorithm \n",
            " 3\n",
            "Specific_h \n",
            " 3 ['sunny' 'warm' '?' 'strong' 'warm' 'same'] \n",
            "\n",
            "General_h \n",
            " 3 [['sunny', '?', '?', '?', '?', '?'], ['?', 'warm', '?', '?', '?', '?'], ['?', '?', '?', '?', '?', '?'], ['?', '?', '?', '?', '?', '?'], ['?', '?', '?', '?', '?', '?'], ['?', '?', '?', '?', '?', 'same']] \n",
            "\n",
            "Specific_h \n",
            " 4 ['sunny' 'warm' '?' 'strong' '?' '?'] \n",
            "\n",
            "General_h \n",
            " 4 [['sunny', '?', '?', '?', '?', '?'], ['?', 'warm', '?', '?', '?', '?'], ['?', '?', '?', '?', '?', '?'], ['?', '?', '?', '?', '?', '?'], ['?', '?', '?', '?', '?', '?'], ['?', '?', '?', '?', '?', '?']] \n",
            "\n",
            "Final Specific_h\n",
            "['sunny' 'warm' '?' 'strong' '?' '?']\n",
            "Final General_h\n",
            "[['sunny', '?', '?', '?', '?', '?'], ['?', 'warm', '?', '?', '?', '?']]\n"
          ]
        }
      ]
    },
    {
      "cell_type": "code",
      "source": [],
      "metadata": {
        "id": "32YEq-dJFYL5"
      },
      "execution_count": null,
      "outputs": []
    }
  ]
}